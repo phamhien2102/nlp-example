{
 "cells": [
  {
   "cell_type": "markdown",
   "id": "0fa9f24d-718c-4f7a-b3f9-a762f4227821",
   "metadata": {},
   "source": [
    "# Introduction"
   ]
  },
  {
   "cell_type": "markdown",
   "id": "190769e7-4999-402c-81b9-9564e5232528",
   "metadata": {},
   "source": [
    "In this demo, we will give you 2 documents:\n",
    "\n",
    "* document1 = 'petrol cars are cheaper than diesel cars'\n",
    "* document2 = 'diesel is cheaper than petrol'\n",
    "\n",
    "Then, we make a python program calculating TF-IDF values (section A). Finally, to understand **how to workflow of sklearn**, we will make the other calculation of TF_IDF values by hand in section B to compare to values in section A."
   ]
  },
  {
   "cell_type": "code",
   "execution_count": 1,
   "id": "40a8711c-88a9-4c01-ada2-2a22f9f5b82b",
   "metadata": {},
   "outputs": [],
   "source": [
    "# Install some libraries\n",
    "!pip3 install --quiet pandas\n",
    "!pip3 install --quiet scikit-learn\n"
   ]
  },
  {
   "cell_type": "code",
   "execution_count": 2,
   "id": "b7246ef0-ed83-4e06-ab29-125ad4ebc36d",
   "metadata": {},
   "outputs": [
    {
     "name": "stdout",
     "output_type": "stream",
     "text": [
      "Name: scikit-learn\n",
      "Version: 1.3.1\n",
      "Summary: A set of python modules for machine learning and data mining\n",
      "Home-page: http://scikit-learn.org\n",
      "Author: \n",
      "Author-email: \n",
      "License: new BSD\n",
      "Location: /usr/local/lib/python3.11/site-packages\n",
      "Requires: joblib, numpy, scipy, threadpoolctl\n",
      "Required-by: \n"
     ]
    }
   ],
   "source": [
    "# Check version of scikit-learn\n",
    "!pip3 show scikit-learn"
   ]
  },
  {
   "cell_type": "markdown",
   "id": "67a4b83a-8d68-435f-96c8-06e7996683e1",
   "metadata": {},
   "source": [
    "# Section A. Python program to generate tf-idf values"
   ]
  },
  {
   "cell_type": "markdown",
   "id": "632b9fde-5f52-4b14-b655-87e140c3bd94",
   "metadata": {},
   "source": [
    "## Step 1: Import the library"
   ]
  },
  {
   "cell_type": "code",
   "execution_count": 3,
   "id": "9c299d8c-8dfd-4695-8aa0-6706e1351439",
   "metadata": {},
   "outputs": [],
   "source": [
    "import pandas as pd\n",
    "from sklearn.feature_extraction.text import CountVectorizer, TfidfVectorizer"
   ]
  },
  {
   "cell_type": "markdown",
   "id": "c78772af-6c19-476c-abf8-b62a5040634b",
   "metadata": {},
   "source": [
    "## Step 2: Set up the document corpus\n"
   ]
  },
  {
   "cell_type": "code",
   "execution_count": 4,
   "id": "ae3a22ad-169a-42af-9d22-6c8de8554412",
   "metadata": {},
   "outputs": [],
   "source": [
    "document1 = 'petrol cars are cheaper than diesel cars'\n",
    "document2 = 'diesel is cheaper than petrol'\n",
    "document_id =  [\"d1\", \"d2\"]\n",
    "corpus = [document1, document2]\n"
   ]
  },
  {
   "cell_type": "markdown",
   "id": "2dce39ff-de58-476c-a7e1-13364b4b3c54",
   "metadata": {},
   "source": [
    "## Step 3: Initialize TfidfVectorizer "
   ]
  },
  {
   "cell_type": "code",
   "execution_count": 9,
   "id": "27d6c814-cf3f-4eb5-9d01-b3f47bfdb26c",
   "metadata": {},
   "outputs": [
    {
     "data": {
      "text/html": [
       "<div>\n",
       "<style scoped>\n",
       "    .dataframe tbody tr th:only-of-type {\n",
       "        vertical-align: middle;\n",
       "    }\n",
       "\n",
       "    .dataframe tbody tr th {\n",
       "        vertical-align: top;\n",
       "    }\n",
       "\n",
       "    .dataframe thead th {\n",
       "        text-align: right;\n",
       "    }\n",
       "</style>\n",
       "<table border=\"1\" class=\"dataframe\">\n",
       "  <thead>\n",
       "    <tr style=\"text-align: right;\">\n",
       "      <th></th>\n",
       "      <th>are</th>\n",
       "      <th>cars</th>\n",
       "      <th>cheaper</th>\n",
       "      <th>diesel</th>\n",
       "      <th>is</th>\n",
       "      <th>petrol</th>\n",
       "      <th>than</th>\n",
       "    </tr>\n",
       "  </thead>\n",
       "  <tbody>\n",
       "    <tr>\n",
       "      <th>d1</th>\n",
       "      <td>0.377292</td>\n",
       "      <td>0.754584</td>\n",
       "      <td>0.268446</td>\n",
       "      <td>0.268446</td>\n",
       "      <td>0.000000</td>\n",
       "      <td>0.268446</td>\n",
       "      <td>0.268446</td>\n",
       "    </tr>\n",
       "    <tr>\n",
       "      <th>d2</th>\n",
       "      <td>0.000000</td>\n",
       "      <td>0.000000</td>\n",
       "      <td>0.409090</td>\n",
       "      <td>0.409090</td>\n",
       "      <td>0.574962</td>\n",
       "      <td>0.409090</td>\n",
       "      <td>0.409090</td>\n",
       "    </tr>\n",
       "    <tr>\n",
       "      <th>document_fluency</th>\n",
       "      <td>1.000000</td>\n",
       "      <td>1.000000</td>\n",
       "      <td>2.000000</td>\n",
       "      <td>2.000000</td>\n",
       "      <td>1.000000</td>\n",
       "      <td>2.000000</td>\n",
       "      <td>2.000000</td>\n",
       "    </tr>\n",
       "  </tbody>\n",
       "</table>\n",
       "</div>"
      ],
      "text/plain": [
       "                       are      cars   cheaper    diesel        is    petrol  \\\n",
       "d1                0.377292  0.754584  0.268446  0.268446  0.000000  0.268446   \n",
       "d2                0.000000  0.000000  0.409090  0.409090  0.574962  0.409090   \n",
       "document_fluency  1.000000  1.000000  2.000000  2.000000  1.000000  2.000000   \n",
       "\n",
       "                      than  \n",
       "d1                0.268446  \n",
       "d2                0.409090  \n",
       "document_fluency  2.000000  "
      ]
     },
     "execution_count": 9,
     "metadata": {},
     "output_type": "execute_result"
    }
   ],
   "source": [
    "# 3.1. If you no use params stop_words='english', please comment below codes and uncomment in 3.2\n",
    "vectorizer = TfidfVectorizer()\n",
    "X = vectorizer.fit_transform(corpus)\n",
    "tfidf_df = pd.DataFrame(X.toarray(), index=document_id, columns=vectorizer.get_feature_names_out())\n",
    "tfidf_df.loc['document_fluency'] = (tfidf_df > 0).sum()\n",
    "tfidf_df"
   ]
  },
  {
   "cell_type": "code",
   "execution_count": 10,
   "id": "724ca88d-b5b2-4f3b-839f-9fc2e1f28fdd",
   "metadata": {},
   "outputs": [],
   "source": [
    "# 3.2. If you no use params stop_words='english', please comment below codes and uncomment in 3.1\n",
    "vectorizer = TfidfVectorizer(stop_words='english')\n",
    "X = vectorizer.fit_transform(corpus)\n",
    "tfidf_df = pd.DataFrame(X.toarray(), index=document_id, columns=vectorizer.get_feature_names_out())\n",
    "tfidf_df.loc['document_fluency'] = (tfidf_df > 0).sum()"
   ]
  },
  {
   "cell_type": "code",
   "execution_count": 7,
   "id": "90cb6b6c-1097-453d-a60d-3e62eeaa164a",
   "metadata": {},
   "outputs": [
    {
     "data": {
      "text/html": [
       "<div>\n",
       "<style scoped>\n",
       "    .dataframe tbody tr th:only-of-type {\n",
       "        vertical-align: middle;\n",
       "    }\n",
       "\n",
       "    .dataframe tbody tr th {\n",
       "        vertical-align: top;\n",
       "    }\n",
       "\n",
       "    .dataframe thead th {\n",
       "        text-align: right;\n",
       "    }\n",
       "</style>\n",
       "<table border=\"1\" class=\"dataframe\">\n",
       "  <thead>\n",
       "    <tr style=\"text-align: right;\">\n",
       "      <th></th>\n",
       "      <th>cars</th>\n",
       "      <th>cheaper</th>\n",
       "      <th>diesel</th>\n",
       "      <th>petrol</th>\n",
       "    </tr>\n",
       "  </thead>\n",
       "  <tbody>\n",
       "    <tr>\n",
       "      <th>d1</th>\n",
       "      <td>0.851354</td>\n",
       "      <td>0.302873</td>\n",
       "      <td>0.302873</td>\n",
       "      <td>0.302873</td>\n",
       "    </tr>\n",
       "    <tr>\n",
       "      <th>d2</th>\n",
       "      <td>0.000000</td>\n",
       "      <td>0.577350</td>\n",
       "      <td>0.577350</td>\n",
       "      <td>0.577350</td>\n",
       "    </tr>\n",
       "    <tr>\n",
       "      <th>document_fluency</th>\n",
       "      <td>1.000000</td>\n",
       "      <td>2.000000</td>\n",
       "      <td>2.000000</td>\n",
       "      <td>2.000000</td>\n",
       "    </tr>\n",
       "  </tbody>\n",
       "</table>\n",
       "</div>"
      ],
      "text/plain": [
       "                      cars   cheaper    diesel    petrol\n",
       "d1                0.851354  0.302873  0.302873  0.302873\n",
       "d2                0.000000  0.577350  0.577350  0.577350\n",
       "document_fluency  1.000000  2.000000  2.000000  2.000000"
      ]
     },
     "execution_count": 7,
     "metadata": {},
     "output_type": "execute_result"
    }
   ],
   "source": [
    "# print(X.toarray())\n",
    "tfidf_df"
   ]
  },
  {
   "cell_type": "markdown",
   "id": "c9f0177d-ecf4-4bd9-84db-c67a01157621",
   "metadata": {},
   "source": [
    "# Section B. Calculate TF-IDF values by hand"
   ]
  },
  {
   "cell_type": "markdown",
   "id": "c47adbd1-db64-4bbe-ac14-466769f18466",
   "metadata": {},
   "source": [
    "## 1. Calculate TF-IDF values for each term by hand"
   ]
  },
  {
   "cell_type": "markdown",
   "id": "efcf0f60-e8cf-4265-9ecc-fb110dc2375a",
   "metadata": {},
   "source": [
    "- As mentioned before , IDF value of a term is common across all documents. Here we will consider the case when smooth_idf = True (default behaviour). So idf(t) is given by\n",
    "\n",
    "IDF(t) = log e ((1+n)/(1 + DF(t)) + 1\n",
    "\n",
    "No. Of docs in corpus: n = 2\n",
    "\n",
    "idf(“cars”) = log e (3/2) +1 => 1.405465083\n",
    "\n",
    "idf(“cheaper”) = log e (3/3) + 1 => 1\n",
    "\n",
    "idf(“diesel”) = log e (3/3) + 1 => 1\n",
    "\n",
    "idf(“petrol”) = log e (3/3) + 1 => 1\n",
    "\n",
    "- So we have the sparse matrix with shape 1 x 4\n",
    "\n",
    "|    **cars** | **cheaper** | **diesel** | **petrol** |\n",
    "|------------:|------------:|-----------:|-----------:|\n",
    "| 1.405465083 | 1           | 1          | 1          |"
   ]
  },
  {
   "cell_type": "markdown",
   "id": "f955c65e-f18d-486c-a1aa-d96ba25dc4d8",
   "metadata": {},
   "source": [
    "## 2. Calculate tf-idf of the terms in each document d1 and d2."
   ]
  },
  {
   "cell_type": "markdown",
   "id": "9a49dda9-16bf-4d6d-8364-d977966c1b12",
   "metadata": {},
   "source": [
    "- **For d1:**\n",
    "  \n",
    "tf-idf(“cars”) = tf(“cars”) x idf (“cars”) = 2 x 1.405465083 => 2.810930165\n",
    "\n",
    "tf-idf(“cheaper”) = tf(“cheaper”) x idf (“cheaper”) = 1 x 1 => 1\n",
    "\n",
    "tf-idf(“diesel”) = tf(“diesel”) x idf (“diesel”) = 1×1 => 1\n",
    "\n",
    "tf-idf(“petrol”) = tf(“petrol”) x idf (“petrol”) = 1×1 => 1\n",
    "\n",
    "- **For d2:**\n",
    "\n",
    "tf-idf(“cars”) = tf(“cars”) x idf (“cars”) = 0 x 1.405465083 => 0\n",
    "\n",
    "tf-idf(“cheaper”) = tf(“cheaper”) x idf (“cheaper”) = 1 x 1 => 1\n",
    "\n",
    "tf-idf(“diesel”) = tf(“diesel”) x idf (“diesel”) = 1×1 => 1\n",
    "\n",
    "tf-idf(“petrol”) = tf(“petrol”) x idf (“petrol”) = 1×1 => 1\n",
    "- So we have the sparse matrix with shape 2 x 4\n",
    "\n",
    "|    |    **cars** | **cheaper** | **diesel** | **petrol** |\n",
    "|----|------------:|------------:|-----------:|-----------:|\n",
    "| d1 | 2.810930165 | 1           | 1          | 1          |\n",
    "| d2 | 0           | 1           | 1          | 1          |"
   ]
  },
  {
   "cell_type": "markdown",
   "id": "16befd9c-1527-4350-b3e5-39da2afddb67",
   "metadata": {},
   "source": [
    "## 3. Normalize tf-idf values"
   ]
  },
  {
   "cell_type": "markdown",
   "id": "d081815a-250f-4df9-b1e7-2c0011a83192",
   "metadata": {},
   "source": [
    "We have one final step. To avoid large documents in the corpus dominating smaller ones, we have a lot of ways to normalize each row in the sparse matrix. Now, we use the Euclidean norm:"
   ]
  },
  {
   "cell_type": "markdown",
   "id": "258ee418-a8ab-4924-a48d-3e78fc210d7f",
   "metadata": {},
   "source": [
    "- **First document d1**\n",
    "\n",
    "2.810930165 / sqrt( 2.810930165 2 + 12 + 12 + 12) => 0.851354321\n",
    "\n",
    "1 / sqrt( 2.8109301652 + 12 + 12 + 12) =>  0.302872811\n",
    "\n",
    "1 / sqrt( 2.8109301652 + 12 + 12 + 12) => 0.302872811\n",
    "\n",
    "1 / sqrt( 2.8109301652 + 12 + 12 + 12) => 0.302872811"
   ]
  },
  {
   "cell_type": "markdown",
   "id": "ce494896-7800-475d-8440-c8857735f378",
   "metadata": {},
   "source": [
    "- **Second document d2**\n",
    "\n",
    "0 / sqrt(0^2   + 12 + 12 + 12) => 0\n",
    "\n",
    "1 / sqrt(02  + 12 + 12 + 12)=> 0.577350269\n",
    "\n",
    "1/ sqrt(02  + 12 + 12 + 12) => 0.577350269\n",
    "\n",
    "1 / sqrt(02  + 12 + 12 + 12) => 0.577350269"
   ]
  },
  {
   "cell_type": "markdown",
   "id": "e3f034aa-e0cd-46f2-91d1-9e2daaa4ab3e",
   "metadata": {},
   "source": [
    "- **As you can see, the result by hand is same with Python program**"
   ]
  },
  {
   "cell_type": "markdown",
   "id": "a5787674-ae53-42bf-9dc3-b9124435ed01",
   "metadata": {},
   "source": [
    "|    |    **cars** | **cheaper** |  **diesel** |  **petrol** |\n",
    "|----|------------:|------------:|------------:|------------:|\n",
    "| d1 | 0.851354321 | 0.302872811 | 0.302872811 | 0.302872811 |\n",
    "| d2 | 0           | 0.577350269 | 0.577350269 | 0.577350269 |"
   ]
  },
  {
   "cell_type": "code",
   "execution_count": null,
   "id": "6fef2d3a-2860-4e72-a9b1-6e19d445ec21",
   "metadata": {},
   "outputs": [],
   "source": []
  }
 ],
 "metadata": {
  "kernelspec": {
   "display_name": "Python 3 (ipykernel)",
   "language": "python",
   "name": "python3"
  },
  "language_info": {
   "codemirror_mode": {
    "name": "ipython",
    "version": 3
   },
   "file_extension": ".py",
   "mimetype": "text/x-python",
   "name": "python",
   "nbconvert_exporter": "python",
   "pygments_lexer": "ipython3",
   "version": "3.11.4"
  }
 },
 "nbformat": 4,
 "nbformat_minor": 5
}
